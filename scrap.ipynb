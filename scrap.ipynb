{
 "cells": [
  {
   "cell_type": "markdown",
   "metadata": {},
   "source": [
    "## Assignment"
   ]
  },
  {
   "cell_type": "code",
   "execution_count": 62,
   "metadata": {},
   "outputs": [
    {
     "name": "stdout",
     "output_type": "stream",
     "text": [
      "Requirement already satisfied: pandas in /Users/manushpatel/anaconda3/lib/python3.6/site-packages (0.23.0)\n",
      "Requirement already satisfied: python-dateutil>=2.5.0 in /Users/manushpatel/anaconda3/lib/python3.6/site-packages (from pandas) (2.7.3)\n",
      "Requirement already satisfied: pytz>=2011k in /Users/manushpatel/anaconda3/lib/python3.6/site-packages (from pandas) (2018.4)\n",
      "Requirement already satisfied: numpy>=1.9.0 in /Users/manushpatel/anaconda3/lib/python3.6/site-packages (from pandas) (1.14.3)\n",
      "Requirement already satisfied: six>=1.5 in /Users/manushpatel/anaconda3/lib/python3.6/site-packages (from python-dateutil>=2.5.0->pandas) (1.11.0)\n",
      "Requirement already satisfied: numpy in /Users/manushpatel/anaconda3/lib/python3.6/site-packages (1.14.3)\n",
      "Requirement already satisfied: matplotlib in /Users/manushpatel/anaconda3/lib/python3.6/site-packages (2.2.2)\n",
      "Requirement already satisfied: numpy>=1.7.1 in /Users/manushpatel/anaconda3/lib/python3.6/site-packages (from matplotlib) (1.14.3)\n",
      "Requirement already satisfied: cycler>=0.10 in /Users/manushpatel/anaconda3/lib/python3.6/site-packages (from matplotlib) (0.10.0)\n",
      "Requirement already satisfied: pyparsing!=2.0.4,!=2.1.2,!=2.1.6,>=2.0.1 in /Users/manushpatel/anaconda3/lib/python3.6/site-packages (from matplotlib) (2.2.0)\n",
      "Requirement already satisfied: python-dateutil>=2.1 in /Users/manushpatel/anaconda3/lib/python3.6/site-packages (from matplotlib) (2.7.3)\n",
      "Requirement already satisfied: pytz in /Users/manushpatel/anaconda3/lib/python3.6/site-packages (from matplotlib) (2018.4)\n",
      "Requirement already satisfied: six>=1.10 in /Users/manushpatel/anaconda3/lib/python3.6/site-packages (from matplotlib) (1.11.0)\n",
      "Requirement already satisfied: kiwisolver>=1.0.1 in /Users/manushpatel/anaconda3/lib/python3.6/site-packages (from matplotlib) (1.0.1)\n",
      "Requirement already satisfied: setuptools in /Users/manushpatel/anaconda3/lib/python3.6/site-packages (from kiwisolver>=1.0.1->matplotlib) (39.1.0)\n",
      "Requirement already satisfied: seaborn in /Users/manushpatel/anaconda3/lib/python3.6/site-packages (0.8.1)\n",
      "Requirement already satisfied: numpy in /Users/manushpatel/anaconda3/lib/python3.6/site-packages (from seaborn) (1.14.3)\n",
      "Requirement already satisfied: scipy in /Users/manushpatel/anaconda3/lib/python3.6/site-packages (from seaborn) (1.1.0)\n",
      "Requirement already satisfied: matplotlib in /Users/manushpatel/anaconda3/lib/python3.6/site-packages (from seaborn) (2.2.2)\n",
      "Requirement already satisfied: pandas in /Users/manushpatel/anaconda3/lib/python3.6/site-packages (from seaborn) (0.23.0)\n",
      "Requirement already satisfied: cycler>=0.10 in /Users/manushpatel/anaconda3/lib/python3.6/site-packages (from matplotlib->seaborn) (0.10.0)\n",
      "Requirement already satisfied: pyparsing!=2.0.4,!=2.1.2,!=2.1.6,>=2.0.1 in /Users/manushpatel/anaconda3/lib/python3.6/site-packages (from matplotlib->seaborn) (2.2.0)\n",
      "Requirement already satisfied: python-dateutil>=2.1 in /Users/manushpatel/anaconda3/lib/python3.6/site-packages (from matplotlib->seaborn) (2.7.3)\n",
      "Requirement already satisfied: pytz in /Users/manushpatel/anaconda3/lib/python3.6/site-packages (from matplotlib->seaborn) (2018.4)\n",
      "Requirement already satisfied: six>=1.10 in /Users/manushpatel/anaconda3/lib/python3.6/site-packages (from matplotlib->seaborn) (1.11.0)\n",
      "Requirement already satisfied: kiwisolver>=1.0.1 in /Users/manushpatel/anaconda3/lib/python3.6/site-packages (from matplotlib->seaborn) (1.0.1)\n",
      "Requirement already satisfied: setuptools in /Users/manushpatel/anaconda3/lib/python3.6/site-packages (from kiwisolver>=1.0.1->matplotlib->seaborn) (39.1.0)\n",
      "Collecting urllib\n",
      "\u001b[31m  ERROR: Could not find a version that satisfies the requirement urllib (from versions: none)\u001b[0m\n",
      "\u001b[31mERROR: No matching distribution found for urllib\u001b[0m\n",
      "Requirement already satisfied: bs4 in /Users/manushpatel/anaconda3/lib/python3.6/site-packages (0.0.1)\n",
      "Requirement already satisfied: beautifulsoup4 in /Users/manushpatel/anaconda3/lib/python3.6/site-packages (from bs4) (4.6.0)\n"
     ]
    }
   ],
   "source": [
    "!pip install pandas\n",
    "!pip install numpy\n",
    "!pip install matplotlib\n",
    "!pip install seaborn\n",
    "!pip install urllib\n",
    "!pip install bs4"
   ]
  },
  {
   "cell_type": "markdown",
   "metadata": {},
   "source": [
    "The first step is to import the libraries needed. We use beautiful soup to parse the HTML and scrape the website to extract all the URLs."
   ]
  },
  {
   "cell_type": "code",
   "execution_count": 63,
   "metadata": {},
   "outputs": [],
   "source": [
    "import pandas as pd\n",
    "import numpy as np\n",
    "import matplotlib.pyplot as plt\n",
    "import seaborn as sns\n",
    "from urllib.request import urlopen\n",
    "from bs4 import BeautifulSoup\n",
    "%matplotlib inline"
   ]
  },
  {
   "cell_type": "markdown",
   "metadata": {},
   "source": [
    "We set the url to the website i.e wikipedia which contains all the links and information of cities of United States and access the site with our requests library.\n",
    "\n"
   ]
  },
  {
   "cell_type": "code",
   "execution_count": 2,
   "metadata": {},
   "outputs": [],
   "source": [
    "#baseURL defined to handle later url calls for 2nd level scrapping\n",
    "baseURL=\"https://en.wikipedia.org\""
   ]
  },
  {
   "cell_type": "code",
   "execution_count": 3,
   "metadata": {},
   "outputs": [],
   "source": [
    "#main url for scrapping the initial table\n",
    "url = \"/wiki/List_of_United_States_cities_by_population\"\n",
    "html = urlopen(baseURL+url)"
   ]
  },
  {
   "cell_type": "markdown",
   "metadata": {},
   "source": [
    "Inspect the site's HTML structure and parse it in a beautiful way."
   ]
  },
  {
   "cell_type": "code",
   "execution_count": 4,
   "metadata": {},
   "outputs": [],
   "source": [
    "soup = BeautifulSoup(html, 'lxml')"
   ]
  },
  {
   "cell_type": "markdown",
   "metadata": {},
   "source": [
    "To find the table with all the top cities in the site and locate all the <tr\\> tags (inspected the html to determine the name to ease the load on the runtime)"
   ]
  },
  {
   "cell_type": "code",
   "execution_count": 5,
   "metadata": {},
   "outputs": [],
   "source": [
    "#fetches the table with the class name as wikitable which is the table the cities\n",
    "rows = soup.find_all(\"table\",class_=\"wikitable\")"
   ]
  },
  {
   "cell_type": "code",
   "execution_count": 6,
   "metadata": {
    "scrolled": false
   },
   "outputs": [],
   "source": [
    "#fetches the first and only result out of the result set and fetches all the tr tags in the resultant table\n",
    "trs = rows[1].find_all(\"tr\")"
   ]
  },
  {
   "cell_type": "markdown",
   "metadata": {},
   "source": [
    "Here we find all the links in each city, define the cells in the table and scrape the data.  We get all the table rows in list form and then convert into dataframe and for that we iterate through all the table rows."
   ]
  },
  {
   "cell_type": "code",
   "execution_count": 7,
   "metadata": {},
   "outputs": [],
   "source": [
    "city_list = []\n",
    "for tr in trs:\n",
    "    try:\n",
    "        tds = tr.find_all(\"td\")\n",
    "        temp = {}\n",
    "        temp[\"rank\"] = tds[0].text.replace(\"\\n\",\"\")\n",
    "        temp[\"city\"] = tds[1].text.replace(\"\\n\",\"\")\n",
    "        #code to find link to city\n",
    "        temp[\"link\"] = tds[1].find_all(\"a\",href=True)[0]['href']\n",
    "        temp[\"state\"] = tds[2].text.replace(\"\\n\",\"\").replace(\"\\xa0\",\"\")\n",
    "        temp[\"estimate\"] = tds[3].text.replace(\"\\n\",\"\")\n",
    "        temp[\"census\"] = tds[4].text.replace(\"\\n\",\"\")\n",
    "        temp[\"change\"] = tds[5].text.replace(\"\\n\",\"\")\n",
    "        temp[\"land_area_mi\"] = tds[6].text.replace(\"\\n\",\"\").replace(\"\\xa0\",\"\")\n",
    "        temp[\"land_area_km2\"] = tds[7].text.replace(\"\\n\",\"\").replace(\"\\xa0\",\"\")\n",
    "        temp[\"population_density_mi\"] = tds[8].text.replace(\"\\n\",\"\").replace(\"\\xa0\",\"\")\n",
    "        temp[\"population_density_km2\"] = tds[9].text.replace(\"\\n\",\"\")\n",
    "        temp[\"location\"] = tds[10].text.replace(\"\\ufeff\",\"\").replace(\"\\n\",\"\")\n",
    "\n",
    "\n",
    "        city_list.append(temp)\n",
    "    except:\n",
    "        continue"
   ]
  },
  {
   "cell_type": "markdown",
   "metadata": {},
   "source": [
    "Generated a list of cities and its information."
   ]
  },
  {
   "cell_type": "code",
   "execution_count": 8,
   "metadata": {},
   "outputs": [
    {
     "data": {
      "text/plain": [
       "{'rank': '1',\n",
       " 'city': 'New York City[d]',\n",
       " 'link': '/wiki/New_York_City',\n",
       " 'state': 'New York',\n",
       " 'estimate': '8,398,748',\n",
       " 'census': '8,175,133',\n",
       " 'change': '+2.74%',\n",
       " 'land_area_mi': '301.5sqmi',\n",
       " 'land_area_km2': '780.9km2',\n",
       " 'population_density_mi': '28,317/sqmi',\n",
       " 'population_density_km2': '10,933/km2',\n",
       " 'location': '40°39′49″N 73°56′19″W / 40.6635°N 73.9387°W / 40.6635; -73.9387 (1 New York City)'}"
      ]
     },
     "execution_count": 8,
     "metadata": {},
     "output_type": "execute_result"
    }
   ],
   "source": [
    "city_list[0]"
   ]
  },
  {
   "cell_type": "code",
   "execution_count": 9,
   "metadata": {
    "scrolled": false
   },
   "outputs": [],
   "source": [
    "#converted list into dataframe\n",
    "df= pd.DataFrame(city_list)"
   ]
  },
  {
   "cell_type": "code",
   "execution_count": 10,
   "metadata": {},
   "outputs": [
    {
     "data": {
      "text/html": [
       "<div>\n",
       "<style scoped>\n",
       "    .dataframe tbody tr th:only-of-type {\n",
       "        vertical-align: middle;\n",
       "    }\n",
       "\n",
       "    .dataframe tbody tr th {\n",
       "        vertical-align: top;\n",
       "    }\n",
       "\n",
       "    .dataframe thead th {\n",
       "        text-align: right;\n",
       "    }\n",
       "</style>\n",
       "<table border=\"1\" class=\"dataframe\">\n",
       "  <thead>\n",
       "    <tr style=\"text-align: right;\">\n",
       "      <th></th>\n",
       "      <th>census</th>\n",
       "      <th>change</th>\n",
       "      <th>city</th>\n",
       "      <th>estimate</th>\n",
       "      <th>land_area_km2</th>\n",
       "      <th>land_area_mi</th>\n",
       "      <th>link</th>\n",
       "      <th>location</th>\n",
       "      <th>population_density_km2</th>\n",
       "      <th>population_density_mi</th>\n",
       "      <th>rank</th>\n",
       "      <th>state</th>\n",
       "    </tr>\n",
       "  </thead>\n",
       "  <tbody>\n",
       "    <tr>\n",
       "      <th>0</th>\n",
       "      <td>8,175,133</td>\n",
       "      <td>+2.74%</td>\n",
       "      <td>New York City[d]</td>\n",
       "      <td>8,398,748</td>\n",
       "      <td>780.9km2</td>\n",
       "      <td>301.5sqmi</td>\n",
       "      <td>/wiki/New_York_City</td>\n",
       "      <td>40°39′49″N 73°56′19″W / 40.6635°N 73.9387°W / ...</td>\n",
       "      <td>10,933/km2</td>\n",
       "      <td>28,317/sqmi</td>\n",
       "      <td>1</td>\n",
       "      <td>New York</td>\n",
       "    </tr>\n",
       "    <tr>\n",
       "      <th>1</th>\n",
       "      <td>3,792,621</td>\n",
       "      <td>+5.22%</td>\n",
       "      <td>Los Angeles</td>\n",
       "      <td>3,990,456</td>\n",
       "      <td>1,213.9km2</td>\n",
       "      <td>468.7sqmi</td>\n",
       "      <td>/wiki/Los_Angeles</td>\n",
       "      <td>34°01′10″N 118°24′39″W / 34.0194°N 118.4108°W ...</td>\n",
       "      <td>3,276/km2</td>\n",
       "      <td>8,484/sqmi</td>\n",
       "      <td>2</td>\n",
       "      <td>California</td>\n",
       "    </tr>\n",
       "    <tr>\n",
       "      <th>2</th>\n",
       "      <td>2,695,598</td>\n",
       "      <td>+0.39%</td>\n",
       "      <td>Chicago</td>\n",
       "      <td>2,705,994</td>\n",
       "      <td>588.7km2</td>\n",
       "      <td>227.3sqmi</td>\n",
       "      <td>/wiki/Chicago</td>\n",
       "      <td>41°50′15″N 87°40′54″W / 41.8376°N 87.6818°W / ...</td>\n",
       "      <td>4,600/km2</td>\n",
       "      <td>11,900/sqmi</td>\n",
       "      <td>3</td>\n",
       "      <td>Illinois</td>\n",
       "    </tr>\n",
       "    <tr>\n",
       "      <th>3</th>\n",
       "      <td>2,100,263</td>\n",
       "      <td>+10.72%</td>\n",
       "      <td>Houston[3]</td>\n",
       "      <td>2,325,502</td>\n",
       "      <td>1,651.1km2</td>\n",
       "      <td>637.5sqmi</td>\n",
       "      <td>/wiki/Houston</td>\n",
       "      <td>29°47′12″N 95°23′27″W / 29.7866°N 95.3909°W / ...</td>\n",
       "      <td>1,395/km2</td>\n",
       "      <td>3,613/sqmi</td>\n",
       "      <td>4</td>\n",
       "      <td>Texas</td>\n",
       "    </tr>\n",
       "    <tr>\n",
       "      <th>4</th>\n",
       "      <td>1,445,632</td>\n",
       "      <td>+14.85%</td>\n",
       "      <td>Phoenix</td>\n",
       "      <td>1,660,272</td>\n",
       "      <td>1,340.6km2</td>\n",
       "      <td>517.6sqmi</td>\n",
       "      <td>/wiki/Phoenix,_Arizona</td>\n",
       "      <td>33°34′20″N 112°05′24″W / 33.5722°N 112.0901°W ...</td>\n",
       "      <td>1,200/km2</td>\n",
       "      <td>3,120/sqmi</td>\n",
       "      <td>5</td>\n",
       "      <td>Arizona</td>\n",
       "    </tr>\n",
       "  </tbody>\n",
       "</table>\n",
       "</div>"
      ],
      "text/plain": [
       "      census   change              city   estimate land_area_km2 land_area_mi  \\\n",
       "0  8,175,133   +2.74%  New York City[d]  8,398,748      780.9km2    301.5sqmi   \n",
       "1  3,792,621   +5.22%       Los Angeles  3,990,456    1,213.9km2    468.7sqmi   \n",
       "2  2,695,598   +0.39%           Chicago  2,705,994      588.7km2    227.3sqmi   \n",
       "3  2,100,263  +10.72%        Houston[3]  2,325,502    1,651.1km2    637.5sqmi   \n",
       "4  1,445,632  +14.85%           Phoenix  1,660,272    1,340.6km2    517.6sqmi   \n",
       "\n",
       "                     link                                           location  \\\n",
       "0     /wiki/New_York_City  40°39′49″N 73°56′19″W / 40.6635°N 73.9387°W / ...   \n",
       "1       /wiki/Los_Angeles  34°01′10″N 118°24′39″W / 34.0194°N 118.4108°W ...   \n",
       "2           /wiki/Chicago  41°50′15″N 87°40′54″W / 41.8376°N 87.6818°W / ...   \n",
       "3           /wiki/Houston  29°47′12″N 95°23′27″W / 29.7866°N 95.3909°W / ...   \n",
       "4  /wiki/Phoenix,_Arizona  33°34′20″N 112°05′24″W / 33.5722°N 112.0901°W ...   \n",
       "\n",
       "  population_density_km2 population_density_mi rank       state  \n",
       "0             10,933/km2           28,317/sqmi    1    New York  \n",
       "1              3,276/km2            8,484/sqmi    2  California  \n",
       "2              4,600/km2           11,900/sqmi    3    Illinois  \n",
       "3              1,395/km2            3,613/sqmi    4       Texas  \n",
       "4              1,200/km2            3,120/sqmi    5     Arizona  "
      ]
     },
     "execution_count": 10,
     "metadata": {},
     "output_type": "execute_result"
    }
   ],
   "source": [
    "df.head()"
   ]
  },
  {
   "cell_type": "markdown",
   "metadata": {},
   "source": [
    "Crawls the links in the given dataframe and stores the page to make scrapping easier as the web page is not repeatedly opened(Space vs time).\n",
    "\n",
    "Another function to seperate the signature wiki infobox from the given webpage and store it seperately"
   ]
  },
  {
   "cell_type": "code",
   "execution_count": 19,
   "metadata": {},
   "outputs": [],
   "source": [
    "def crawl_page(x):\n",
    "    url = baseURL+x\n",
    "    html = urlopen(url)\n",
    "    return soup\n",
    "\n",
    "#locate the info box and extract the data\n",
    "def get_info_box(x):\n",
    "    return x.find_all(\"table\",{\"class\":\"infobox\"})\n"
   ]
  },
  {
   "cell_type": "markdown",
   "metadata": {},
   "source": [
    "Storing all the crawled information in a dataframe and generating csv file."
   ]
  },
  {
   "cell_type": "code",
   "execution_count": 12,
   "metadata": {},
   "outputs": [],
   "source": [
    "df[\"page_info\"] = df[\"link\"].apply(crawl_page)\n",
    "# df.to_csv(\"page_crawl.csv\", sep='\\t', encoding='utf-8')"
   ]
  },
  {
   "cell_type": "code",
   "execution_count": 13,
   "metadata": {},
   "outputs": [],
   "source": [
    "# df = pd.read_csv(\"page_crawl.csv\",sep=\"\\t\")"
   ]
  },
  {
   "cell_type": "code",
   "execution_count": 14,
   "metadata": {},
   "outputs": [
    {
     "data": {
      "text/html": [
       "<div>\n",
       "<style scoped>\n",
       "    .dataframe tbody tr th:only-of-type {\n",
       "        vertical-align: middle;\n",
       "    }\n",
       "\n",
       "    .dataframe tbody tr th {\n",
       "        vertical-align: top;\n",
       "    }\n",
       "\n",
       "    .dataframe thead th {\n",
       "        text-align: right;\n",
       "    }\n",
       "</style>\n",
       "<table border=\"1\" class=\"dataframe\">\n",
       "  <thead>\n",
       "    <tr style=\"text-align: right;\">\n",
       "      <th></th>\n",
       "      <th>census</th>\n",
       "      <th>change</th>\n",
       "      <th>city</th>\n",
       "      <th>estimate</th>\n",
       "      <th>land_area_km2</th>\n",
       "      <th>land_area_mi</th>\n",
       "      <th>link</th>\n",
       "      <th>location</th>\n",
       "      <th>population_density_km2</th>\n",
       "      <th>population_density_mi</th>\n",
       "      <th>rank</th>\n",
       "      <th>state</th>\n",
       "      <th>page_info</th>\n",
       "    </tr>\n",
       "  </thead>\n",
       "  <tbody>\n",
       "    <tr>\n",
       "      <th>0</th>\n",
       "      <td>8,175,133</td>\n",
       "      <td>+2.74%</td>\n",
       "      <td>New York City[d]</td>\n",
       "      <td>8,398,748</td>\n",
       "      <td>780.9km2</td>\n",
       "      <td>301.5sqmi</td>\n",
       "      <td>/wiki/New_York_City</td>\n",
       "      <td>40°39′49″N 73°56′19″W / 40.6635°N 73.9387°W / ...</td>\n",
       "      <td>10,933/km2</td>\n",
       "      <td>28,317/sqmi</td>\n",
       "      <td>1</td>\n",
       "      <td>New York</td>\n",
       "      <td>&lt;!DOCTYPE html&gt;\n",
       "&lt;html class=\"client-nojs\" dir=...</td>\n",
       "    </tr>\n",
       "    <tr>\n",
       "      <th>1</th>\n",
       "      <td>3,792,621</td>\n",
       "      <td>+5.22%</td>\n",
       "      <td>Los Angeles</td>\n",
       "      <td>3,990,456</td>\n",
       "      <td>1,213.9km2</td>\n",
       "      <td>468.7sqmi</td>\n",
       "      <td>/wiki/Los_Angeles</td>\n",
       "      <td>34°01′10″N 118°24′39″W / 34.0194°N 118.4108°W ...</td>\n",
       "      <td>3,276/km2</td>\n",
       "      <td>8,484/sqmi</td>\n",
       "      <td>2</td>\n",
       "      <td>California</td>\n",
       "      <td>&lt;!DOCTYPE html&gt;\n",
       "&lt;html class=\"client-nojs\" dir=...</td>\n",
       "    </tr>\n",
       "    <tr>\n",
       "      <th>2</th>\n",
       "      <td>2,695,598</td>\n",
       "      <td>+0.39%</td>\n",
       "      <td>Chicago</td>\n",
       "      <td>2,705,994</td>\n",
       "      <td>588.7km2</td>\n",
       "      <td>227.3sqmi</td>\n",
       "      <td>/wiki/Chicago</td>\n",
       "      <td>41°50′15″N 87°40′54″W / 41.8376°N 87.6818°W / ...</td>\n",
       "      <td>4,600/km2</td>\n",
       "      <td>11,900/sqmi</td>\n",
       "      <td>3</td>\n",
       "      <td>Illinois</td>\n",
       "      <td>&lt;!DOCTYPE html&gt;\n",
       "&lt;html class=\"client-nojs\" dir=...</td>\n",
       "    </tr>\n",
       "    <tr>\n",
       "      <th>3</th>\n",
       "      <td>2,100,263</td>\n",
       "      <td>+10.72%</td>\n",
       "      <td>Houston[3]</td>\n",
       "      <td>2,325,502</td>\n",
       "      <td>1,651.1km2</td>\n",
       "      <td>637.5sqmi</td>\n",
       "      <td>/wiki/Houston</td>\n",
       "      <td>29°47′12″N 95°23′27″W / 29.7866°N 95.3909°W / ...</td>\n",
       "      <td>1,395/km2</td>\n",
       "      <td>3,613/sqmi</td>\n",
       "      <td>4</td>\n",
       "      <td>Texas</td>\n",
       "      <td>&lt;!DOCTYPE html&gt;\n",
       "&lt;html class=\"client-nojs\" dir=...</td>\n",
       "    </tr>\n",
       "    <tr>\n",
       "      <th>4</th>\n",
       "      <td>1,445,632</td>\n",
       "      <td>+14.85%</td>\n",
       "      <td>Phoenix</td>\n",
       "      <td>1,660,272</td>\n",
       "      <td>1,340.6km2</td>\n",
       "      <td>517.6sqmi</td>\n",
       "      <td>/wiki/Phoenix,_Arizona</td>\n",
       "      <td>33°34′20″N 112°05′24″W / 33.5722°N 112.0901°W ...</td>\n",
       "      <td>1,200/km2</td>\n",
       "      <td>3,120/sqmi</td>\n",
       "      <td>5</td>\n",
       "      <td>Arizona</td>\n",
       "      <td>&lt;!DOCTYPE html&gt;\n",
       "&lt;html class=\"client-nojs\" dir=...</td>\n",
       "    </tr>\n",
       "  </tbody>\n",
       "</table>\n",
       "</div>"
      ],
      "text/plain": [
       "      census   change              city   estimate land_area_km2 land_area_mi  \\\n",
       "0  8,175,133   +2.74%  New York City[d]  8,398,748      780.9km2    301.5sqmi   \n",
       "1  3,792,621   +5.22%       Los Angeles  3,990,456    1,213.9km2    468.7sqmi   \n",
       "2  2,695,598   +0.39%           Chicago  2,705,994      588.7km2    227.3sqmi   \n",
       "3  2,100,263  +10.72%        Houston[3]  2,325,502    1,651.1km2    637.5sqmi   \n",
       "4  1,445,632  +14.85%           Phoenix  1,660,272    1,340.6km2    517.6sqmi   \n",
       "\n",
       "                     link                                           location  \\\n",
       "0     /wiki/New_York_City  40°39′49″N 73°56′19″W / 40.6635°N 73.9387°W / ...   \n",
       "1       /wiki/Los_Angeles  34°01′10″N 118°24′39″W / 34.0194°N 118.4108°W ...   \n",
       "2           /wiki/Chicago  41°50′15″N 87°40′54″W / 41.8376°N 87.6818°W / ...   \n",
       "3           /wiki/Houston  29°47′12″N 95°23′27″W / 29.7866°N 95.3909°W / ...   \n",
       "4  /wiki/Phoenix,_Arizona  33°34′20″N 112°05′24″W / 33.5722°N 112.0901°W ...   \n",
       "\n",
       "  population_density_km2 population_density_mi rank       state  \\\n",
       "0             10,933/km2           28,317/sqmi    1    New York   \n",
       "1              3,276/km2            8,484/sqmi    2  California   \n",
       "2              4,600/km2           11,900/sqmi    3    Illinois   \n",
       "3              1,395/km2            3,613/sqmi    4       Texas   \n",
       "4              1,200/km2            3,120/sqmi    5     Arizona   \n",
       "\n",
       "                                           page_info  \n",
       "0  <!DOCTYPE html>\n",
       "<html class=\"client-nojs\" dir=...  \n",
       "1  <!DOCTYPE html>\n",
       "<html class=\"client-nojs\" dir=...  \n",
       "2  <!DOCTYPE html>\n",
       "<html class=\"client-nojs\" dir=...  \n",
       "3  <!DOCTYPE html>\n",
       "<html class=\"client-nojs\" dir=...  \n",
       "4  <!DOCTYPE html>\n",
       "<html class=\"client-nojs\" dir=...  "
      ]
     },
     "execution_count": 14,
     "metadata": {},
     "output_type": "execute_result"
    }
   ],
   "source": [
    "df.head()"
   ]
  },
  {
   "cell_type": "code",
   "execution_count": 24,
   "metadata": {},
   "outputs": [],
   "source": [
    "df[\"infobox\"] = df[\"page_info\"].apply(get_info_box)"
   ]
  },
  {
   "cell_type": "markdown",
   "metadata": {},
   "source": [
    "1. lambda function(separate_field) - Takes fields from the given list of field_list and fetches the field according to the field list from the info box and stores it in the dataframe\n",
    "2. lambda function(separate_text_block) -  seperates the text blocks from the webpage according to the field list and stores them in the dataframe according to the field list."
   ]
  },
  {
   "cell_type": "code",
   "execution_count": 43,
   "metadata": {},
   "outputs": [],
   "source": [
    "def seperate_field(x,field_list):\n",
    "    x= x[0]\n",
    "    tempVariable = x.find_all('tr')\n",
    "    for i in tempVariable:\n",
    "        for j in i.find_all(\"th\",limit=10000):\n",
    "            for k in field_list:\n",
    "                if k in j.text.lower():\n",
    "                    return i.find(\"td\").text.replace(\"\\n\",\" \")\n",
    "\n",
    "                \n",
    "def seperate_text_block(x,field_list):\n",
    "    tempVariable = x.find_all([\"h2\",'h3',\"p\"])\n",
    "    flag = False\n",
    "    final_string = \"\"\n",
    "    for i in tempVariable:\n",
    "        if (i.name == 'h2' or i.name == 'h3') and field_list in i.text:\n",
    "            flag = True\n",
    "            continue\n",
    "        elif (i.name == 'h2' or i.name == 'h3') and field_list in i.text:\n",
    "            flag = False\n",
    "        if flag == True:\n",
    "            final_string+= i.text + \" \"\n",
    "    return final_string\n",
    "         "
   ]
  },
  {
   "cell_type": "markdown",
   "metadata": {},
   "source": [
    "Storing all the separated fields in a dataframe"
   ]
  },
  {
   "cell_type": "code",
   "execution_count": 25,
   "metadata": {},
   "outputs": [],
   "source": [
    "df[\"county\"] = df[\"infobox\"].apply(seperate_field,field_list=[\"county\",\"counties\"])"
   ]
  },
  {
   "cell_type": "code",
   "execution_count": 26,
   "metadata": {},
   "outputs": [],
   "source": [
    "df[\"settled\"] = df[\"infobox\"].apply(seperate_field,field_list=[\"settled\"])"
   ]
  },
  {
   "cell_type": "code",
   "execution_count": 27,
   "metadata": {},
   "outputs": [],
   "source": [
    "df[\"website\"] = df[\"infobox\"].apply(seperate_field,field_list=[\"website\"])"
   ]
  },
  {
   "cell_type": "code",
   "execution_count": 28,
   "metadata": {},
   "outputs": [],
   "source": [
    "df[\"zip_code\"] = df[\"infobox\"].apply(seperate_field,field_list=[\"zip codes\",\"zip code\",\"zip code(s)\"])"
   ]
  },
  {
   "cell_type": "code",
   "execution_count": 30,
   "metadata": {},
   "outputs": [],
   "source": [
    "df[\"major_airport\"] = df[\"infobox\"].apply(seperate_field,field_list=[\"major airport(s)\",\"major airport\",\"major airports\",\"primary airport\"])"
   ]
  },
  {
   "cell_type": "code",
   "execution_count": 31,
   "metadata": {},
   "outputs": [],
   "source": [
    "df[\"demonym\"] = df[\"infobox\"].apply(seperate_field,field_list=[\"demonym(s)\"])"
   ]
  },
  {
   "cell_type": "code",
   "execution_count": 32,
   "metadata": {},
   "outputs": [],
   "source": [
    "df[\"government_type\"] = df[\"infobox\"].apply(seperate_field,field_list=[\"type\"])"
   ]
  },
  {
   "cell_type": "code",
   "execution_count": 33,
   "metadata": {},
   "outputs": [],
   "source": [
    "df[\"mayor\"] = df[\"infobox\"].apply(seperate_field,field_list=[\"mayor\"])"
   ]
  },
  {
   "cell_type": "code",
   "execution_count": 34,
   "metadata": {},
   "outputs": [],
   "source": [
    "df[\"time_zone\"] = df[\"infobox\"].apply(seperate_field,field_list=[\"time zone\"])"
   ]
  },
  {
   "cell_type": "code",
   "execution_count": 35,
   "metadata": {},
   "outputs": [],
   "source": [
    "df[\"summer_time_zone\"] = df[\"infobox\"].apply(seperate_field,field_list=[\"summer\"])"
   ]
  },
  {
   "cell_type": "code",
   "execution_count": 36,
   "metadata": {},
   "outputs": [],
   "source": [
    "df[\"area_code\"] = df[\"infobox\"].apply(seperate_field,field_list = [\"area code\"])"
   ]
  },
  {
   "cell_type": "code",
   "execution_count": 37,
   "metadata": {},
   "outputs": [],
   "source": [
    "df[\"government_body\"] = df[\"infobox\"].apply(seperate_field,field_list= [\"body\"])"
   ]
  },
  {
   "cell_type": "code",
   "execution_count": 44,
   "metadata": {},
   "outputs": [],
   "source": [
    "df[\"history\"] = df[\"page_info\"].apply(seperate_text_block,field_list= \"History\")"
   ]
  },
  {
   "cell_type": "code",
   "execution_count": 45,
   "metadata": {},
   "outputs": [],
   "source": [
    "df[\"geography\"] = df[\"page_info\"].apply(seperate_text_block,field_list= \"Geography\")"
   ]
  },
  {
   "cell_type": "code",
   "execution_count": 46,
   "metadata": {},
   "outputs": [],
   "source": [
    "df[\"demographics\"] = df[\"page_info\"].apply(seperate_text_block,field_list= \"Demographics\")"
   ]
  },
  {
   "cell_type": "code",
   "execution_count": 47,
   "metadata": {},
   "outputs": [],
   "source": [
    "df[\"economy\"] = df[\"page_info\"].apply(seperate_text_block,field_list= \"Economy\")"
   ]
  },
  {
   "cell_type": "code",
   "execution_count": 48,
   "metadata": {},
   "outputs": [],
   "source": [
    "df[\"transportation\"] = df[\"page_info\"].apply(seperate_text_block,field_list= \"Transportation\")"
   ]
  },
  {
   "cell_type": "code",
   "execution_count": 49,
   "metadata": {},
   "outputs": [],
   "source": [
    "df[\"education\"] = df[\"page_info\"].apply(seperate_text_block,field_list = \"Education\")"
   ]
  },
  {
   "cell_type": "code",
   "execution_count": 50,
   "metadata": {},
   "outputs": [],
   "source": [
    "df[\"sports\"] = df[\"page_info\"].apply(seperate_text_block,field_list=\"Sports\")"
   ]
  },
  {
   "cell_type": "code",
   "execution_count": 51,
   "metadata": {},
   "outputs": [
    {
     "data": {
      "text/html": [
       "<div>\n",
       "<style scoped>\n",
       "    .dataframe tbody tr th:only-of-type {\n",
       "        vertical-align: middle;\n",
       "    }\n",
       "\n",
       "    .dataframe tbody tr th {\n",
       "        vertical-align: top;\n",
       "    }\n",
       "\n",
       "    .dataframe thead th {\n",
       "        text-align: right;\n",
       "    }\n",
       "</style>\n",
       "<table border=\"1\" class=\"dataframe\">\n",
       "  <thead>\n",
       "    <tr style=\"text-align: right;\">\n",
       "      <th></th>\n",
       "      <th>city</th>\n",
       "      <th>sports</th>\n",
       "    </tr>\n",
       "  </thead>\n",
       "  <tbody>\n",
       "    <tr>\n",
       "      <th>0</th>\n",
       "      <td>New York City[d]</td>\n",
       "      <td>New York City is home to the headquarters of t...</td>\n",
       "    </tr>\n",
       "    <tr>\n",
       "      <th>1</th>\n",
       "      <td>Los Angeles</td>\n",
       "      <td>The city of Los Angeles and its metropolitan a...</td>\n",
       "    </tr>\n",
       "    <tr>\n",
       "      <th>2</th>\n",
       "      <td>Chicago</td>\n",
       "      <td>Sporting News named Chicago the \"Best Sports C...</td>\n",
       "    </tr>\n",
       "    <tr>\n",
       "      <th>3</th>\n",
       "      <td>Houston[3]</td>\n",
       "      <td>Houston has sports teams for every major profe...</td>\n",
       "    </tr>\n",
       "    <tr>\n",
       "      <th>4</th>\n",
       "      <td>Phoenix</td>\n",
       "      <td>Major league[edit] Phoenix is home to several ...</td>\n",
       "    </tr>\n",
       "    <tr>\n",
       "      <th>5</th>\n",
       "      <td>Philadelphia[e]</td>\n",
       "      <td>Philadelphia's first professional sports team ...</td>\n",
       "    </tr>\n",
       "    <tr>\n",
       "      <th>6</th>\n",
       "      <td>San Antonio</td>\n",
       "      <td>Professional sports[edit] The city's only top-...</td>\n",
       "    </tr>\n",
       "    <tr>\n",
       "      <th>7</th>\n",
       "      <td>San Diego</td>\n",
       "      <td>Major League teams Minor League teams College ...</td>\n",
       "    </tr>\n",
       "    <tr>\n",
       "      <th>8</th>\n",
       "      <td>Dallas</td>\n",
       "      <td>The Dallas—Fort Worth metropolitan area is hom...</td>\n",
       "    </tr>\n",
       "    <tr>\n",
       "      <th>9</th>\n",
       "      <td>San Jose</td>\n",
       "      <td>San Jose is home to the San Jose Sharks of the...</td>\n",
       "    </tr>\n",
       "    <tr>\n",
       "      <th>10</th>\n",
       "      <td>Austin</td>\n",
       "      <td>Many Austinites support the athletic programs ...</td>\n",
       "    </tr>\n",
       "    <tr>\n",
       "      <th>11</th>\n",
       "      <td>Jacksonville[f]</td>\n",
       "      <td>Jacksonville is home to one major league sport...</td>\n",
       "    </tr>\n",
       "    <tr>\n",
       "      <th>12</th>\n",
       "      <td>Fort Worth</td>\n",
       "      <td>While much of Fort Worth's sports attention is...</td>\n",
       "    </tr>\n",
       "    <tr>\n",
       "      <th>13</th>\n",
       "      <td>Columbus</td>\n",
       "      <td>Professional teams[edit] Columbus hosts two ma...</td>\n",
       "    </tr>\n",
       "    <tr>\n",
       "      <th>14</th>\n",
       "      <td>San Francisco[g]</td>\n",
       "      <td>Major League Baseball's San Francisco Giants h...</td>\n",
       "    </tr>\n",
       "    <tr>\n",
       "      <th>15</th>\n",
       "      <td>Charlotte</td>\n",
       "      <td>Charlotte is home to two major professional sp...</td>\n",
       "    </tr>\n",
       "    <tr>\n",
       "      <th>16</th>\n",
       "      <td>Indianapolis[h]</td>\n",
       "      <td>Two major league sports teams are based in Ind...</td>\n",
       "    </tr>\n",
       "    <tr>\n",
       "      <th>17</th>\n",
       "      <td>Seattle</td>\n",
       "      <td></td>\n",
       "    </tr>\n",
       "    <tr>\n",
       "      <th>18</th>\n",
       "      <td>Denver[i]</td>\n",
       "      <td>Denver is home to a variety of sports teams an...</td>\n",
       "    </tr>\n",
       "    <tr>\n",
       "      <th>19</th>\n",
       "      <td>Washington, D.C.[j]</td>\n",
       "      <td>Washington is one of 13 cities in the United S...</td>\n",
       "    </tr>\n",
       "    <tr>\n",
       "      <th>20</th>\n",
       "      <td>Boston</td>\n",
       "      <td>Boston has teams in the four major North Ameri...</td>\n",
       "    </tr>\n",
       "    <tr>\n",
       "      <th>21</th>\n",
       "      <td>El Paso</td>\n",
       "      <td>El Paso is home to the Sun Bowl, the second ol...</td>\n",
       "    </tr>\n",
       "    <tr>\n",
       "      <th>22</th>\n",
       "      <td>Detroit</td>\n",
       "      <td>Detroit is one of 13 U.S. metropolitan areas t...</td>\n",
       "    </tr>\n",
       "    <tr>\n",
       "      <th>23</th>\n",
       "      <td>Nashville[k]</td>\n",
       "      <td>Professional[edit] Nashville is home to five p...</td>\n",
       "    </tr>\n",
       "    <tr>\n",
       "      <th>24</th>\n",
       "      <td>Portland</td>\n",
       "      <td>Portland is home to two major league sports fr...</td>\n",
       "    </tr>\n",
       "    <tr>\n",
       "      <th>25</th>\n",
       "      <td>Memphis</td>\n",
       "      <td>The Memphis Grizzlies of the National Basketba...</td>\n",
       "    </tr>\n",
       "    <tr>\n",
       "      <th>26</th>\n",
       "      <td>Oklahoma City</td>\n",
       "      <td>Oklahoma City is home to several professional ...</td>\n",
       "    </tr>\n",
       "    <tr>\n",
       "      <th>27</th>\n",
       "      <td>Las Vegas</td>\n",
       "      <td>The Las Vegas Valley is the home of two major ...</td>\n",
       "    </tr>\n",
       "    <tr>\n",
       "      <th>28</th>\n",
       "      <td>Louisville[l]</td>\n",
       "      <td>College sports are popular in the Louisville a...</td>\n",
       "    </tr>\n",
       "    <tr>\n",
       "      <th>29</th>\n",
       "      <td>Baltimore[m]</td>\n",
       "      <td>Baseball[edit] Baltimore has a long and storie...</td>\n",
       "    </tr>\n",
       "    <tr>\n",
       "      <th>...</th>\n",
       "      <td>...</td>\n",
       "      <td>...</td>\n",
       "    </tr>\n",
       "    <tr>\n",
       "      <th>284</th>\n",
       "      <td>Greeley</td>\n",
       "      <td></td>\n",
       "    </tr>\n",
       "    <tr>\n",
       "      <th>285</th>\n",
       "      <td>Daly City</td>\n",
       "      <td></td>\n",
       "    </tr>\n",
       "    <tr>\n",
       "      <th>286</th>\n",
       "      <td>Meridian</td>\n",
       "      <td></td>\n",
       "    </tr>\n",
       "    <tr>\n",
       "      <th>287</th>\n",
       "      <td>Lewisville</td>\n",
       "      <td></td>\n",
       "    </tr>\n",
       "    <tr>\n",
       "      <th>288</th>\n",
       "      <td>Davie[ac]</td>\n",
       "      <td></td>\n",
       "    </tr>\n",
       "    <tr>\n",
       "      <th>289</th>\n",
       "      <td>West Covina</td>\n",
       "      <td>A project that is completed is the West Covina...</td>\n",
       "    </tr>\n",
       "    <tr>\n",
       "      <th>290</th>\n",
       "      <td>League City</td>\n",
       "      <td></td>\n",
       "    </tr>\n",
       "    <tr>\n",
       "      <th>291</th>\n",
       "      <td>Tyler</td>\n",
       "      <td>College and university teams[edit] Baseball te...</td>\n",
       "    </tr>\n",
       "    <tr>\n",
       "      <th>292</th>\n",
       "      <td>Norwalk</td>\n",
       "      <td>The Falcon Field is the largest venue by capac...</td>\n",
       "    </tr>\n",
       "    <tr>\n",
       "      <th>293</th>\n",
       "      <td>San Mateo</td>\n",
       "      <td></td>\n",
       "    </tr>\n",
       "    <tr>\n",
       "      <th>294</th>\n",
       "      <td>Green Bay</td>\n",
       "      <td>Other major sporting events in Green Bay inclu...</td>\n",
       "    </tr>\n",
       "    <tr>\n",
       "      <th>295</th>\n",
       "      <td>Wichita Falls</td>\n",
       "      <td>Recreation[edit] Nearby Lake Wichita was dredg...</td>\n",
       "    </tr>\n",
       "    <tr>\n",
       "      <th>296</th>\n",
       "      <td>Sparks</td>\n",
       "      <td></td>\n",
       "    </tr>\n",
       "    <tr>\n",
       "      <th>297</th>\n",
       "      <td>Lakewood[ad]</td>\n",
       "      <td>FirstEnergy Park, home of the Lakewood BlueCla...</td>\n",
       "    </tr>\n",
       "    <tr>\n",
       "      <th>298</th>\n",
       "      <td>Burbank</td>\n",
       "      <td></td>\n",
       "    </tr>\n",
       "    <tr>\n",
       "      <th>299</th>\n",
       "      <td>Rialto</td>\n",
       "      <td></td>\n",
       "    </tr>\n",
       "    <tr>\n",
       "      <th>300</th>\n",
       "      <td>Allen</td>\n",
       "      <td>In October 2004, the City of Allen purchased C...</td>\n",
       "    </tr>\n",
       "    <tr>\n",
       "      <th>301</th>\n",
       "      <td>El Cajon</td>\n",
       "      <td></td>\n",
       "    </tr>\n",
       "    <tr>\n",
       "      <th>302</th>\n",
       "      <td>Las Cruces</td>\n",
       "      <td>At the university level, the New Mexico State ...</td>\n",
       "    </tr>\n",
       "    <tr>\n",
       "      <th>303</th>\n",
       "      <td>Renton</td>\n",
       "      <td></td>\n",
       "    </tr>\n",
       "    <tr>\n",
       "      <th>304</th>\n",
       "      <td>Davenport</td>\n",
       "      <td>Davenport and the Quad Cities are home to many...</td>\n",
       "    </tr>\n",
       "    <tr>\n",
       "      <th>305</th>\n",
       "      <td>South Bend</td>\n",
       "      <td>South Bend Cubs[edit] The city is home to the ...</td>\n",
       "    </tr>\n",
       "    <tr>\n",
       "      <th>306</th>\n",
       "      <td>Vista</td>\n",
       "      <td></td>\n",
       "    </tr>\n",
       "    <tr>\n",
       "      <th>307</th>\n",
       "      <td>Tuscaloosa</td>\n",
       "      <td>Tuscaloosa is known for its collegiate athleti...</td>\n",
       "    </tr>\n",
       "    <tr>\n",
       "      <th>308</th>\n",
       "      <td>Clinton[ae]</td>\n",
       "      <td></td>\n",
       "    </tr>\n",
       "    <tr>\n",
       "      <th>309</th>\n",
       "      <td>Edison[ad]</td>\n",
       "      <td>Plainfield Country Club is a private country c...</td>\n",
       "    </tr>\n",
       "    <tr>\n",
       "      <th>310</th>\n",
       "      <td>Woodbridge[ad]</td>\n",
       "      <td></td>\n",
       "    </tr>\n",
       "    <tr>\n",
       "      <th>311</th>\n",
       "      <td>San Angelo</td>\n",
       "      <td></td>\n",
       "    </tr>\n",
       "    <tr>\n",
       "      <th>312</th>\n",
       "      <td>Kenosha</td>\n",
       "      <td></td>\n",
       "    </tr>\n",
       "    <tr>\n",
       "      <th>313</th>\n",
       "      <td>Vacaville</td>\n",
       "      <td></td>\n",
       "    </tr>\n",
       "  </tbody>\n",
       "</table>\n",
       "<p>314 rows × 2 columns</p>\n",
       "</div>"
      ],
      "text/plain": [
       "                    city                                             sports\n",
       "0       New York City[d]  New York City is home to the headquarters of t...\n",
       "1            Los Angeles  The city of Los Angeles and its metropolitan a...\n",
       "2                Chicago  Sporting News named Chicago the \"Best Sports C...\n",
       "3             Houston[3]  Houston has sports teams for every major profe...\n",
       "4                Phoenix  Major league[edit] Phoenix is home to several ...\n",
       "5        Philadelphia[e]  Philadelphia's first professional sports team ...\n",
       "6            San Antonio  Professional sports[edit] The city's only top-...\n",
       "7              San Diego  Major League teams Minor League teams College ...\n",
       "8                 Dallas  The Dallas—Fort Worth metropolitan area is hom...\n",
       "9               San Jose  San Jose is home to the San Jose Sharks of the...\n",
       "10                Austin  Many Austinites support the athletic programs ...\n",
       "11       Jacksonville[f]  Jacksonville is home to one major league sport...\n",
       "12            Fort Worth  While much of Fort Worth's sports attention is...\n",
       "13              Columbus  Professional teams[edit] Columbus hosts two ma...\n",
       "14      San Francisco[g]  Major League Baseball's San Francisco Giants h...\n",
       "15             Charlotte  Charlotte is home to two major professional sp...\n",
       "16       Indianapolis[h]  Two major league sports teams are based in Ind...\n",
       "17               Seattle                                                   \n",
       "18             Denver[i]  Denver is home to a variety of sports teams an...\n",
       "19   Washington, D.C.[j]  Washington is one of 13 cities in the United S...\n",
       "20                Boston  Boston has teams in the four major North Ameri...\n",
       "21               El Paso  El Paso is home to the Sun Bowl, the second ol...\n",
       "22               Detroit  Detroit is one of 13 U.S. metropolitan areas t...\n",
       "23          Nashville[k]  Professional[edit] Nashville is home to five p...\n",
       "24              Portland  Portland is home to two major league sports fr...\n",
       "25               Memphis  The Memphis Grizzlies of the National Basketba...\n",
       "26         Oklahoma City  Oklahoma City is home to several professional ...\n",
       "27             Las Vegas  The Las Vegas Valley is the home of two major ...\n",
       "28         Louisville[l]  College sports are popular in the Louisville a...\n",
       "29          Baltimore[m]  Baseball[edit] Baltimore has a long and storie...\n",
       "..                   ...                                                ...\n",
       "284              Greeley                                                   \n",
       "285            Daly City                                                   \n",
       "286             Meridian                                                   \n",
       "287           Lewisville                                                   \n",
       "288            Davie[ac]                                                   \n",
       "289          West Covina  A project that is completed is the West Covina...\n",
       "290          League City                                                   \n",
       "291                Tyler  College and university teams[edit] Baseball te...\n",
       "292              Norwalk  The Falcon Field is the largest venue by capac...\n",
       "293            San Mateo                                                   \n",
       "294            Green Bay  Other major sporting events in Green Bay inclu...\n",
       "295        Wichita Falls  Recreation[edit] Nearby Lake Wichita was dredg...\n",
       "296               Sparks                                                   \n",
       "297         Lakewood[ad]  FirstEnergy Park, home of the Lakewood BlueCla...\n",
       "298              Burbank                                                   \n",
       "299               Rialto                                                   \n",
       "300                Allen  In October 2004, the City of Allen purchased C...\n",
       "301             El Cajon                                                   \n",
       "302           Las Cruces  At the university level, the New Mexico State ...\n",
       "303               Renton                                                   \n",
       "304            Davenport  Davenport and the Quad Cities are home to many...\n",
       "305           South Bend  South Bend Cubs[edit] The city is home to the ...\n",
       "306                Vista                                                   \n",
       "307           Tuscaloosa  Tuscaloosa is known for its collegiate athleti...\n",
       "308          Clinton[ae]                                                   \n",
       "309           Edison[ad]  Plainfield Country Club is a private country c...\n",
       "310       Woodbridge[ad]                                                   \n",
       "311           San Angelo                                                   \n",
       "312              Kenosha                                                   \n",
       "313            Vacaville                                                   \n",
       "\n",
       "[314 rows x 2 columns]"
      ]
     },
     "execution_count": 51,
     "metadata": {},
     "output_type": "execute_result"
    }
   ],
   "source": [
    "df[[\"city\",\"sports\"]]"
   ]
  },
  {
   "cell_type": "code",
   "execution_count": 52,
   "metadata": {},
   "outputs": [
    {
     "data": {
      "text/plain": [
       "33"
      ]
     },
     "execution_count": 52,
     "metadata": {},
     "output_type": "execute_result"
    }
   ],
   "source": [
    "len(df.columns)"
   ]
  },
  {
   "cell_type": "code",
   "execution_count": 53,
   "metadata": {},
   "outputs": [
    {
     "data": {
      "text/plain": [
       "Index(['census', 'change', 'city', 'estimate', 'land_area_km2', 'land_area_mi',\n",
       "       'link', 'location', 'population_density_km2', 'population_density_mi',\n",
       "       'rank', 'state', 'page_info', 'infobox', 'county', 'settled', 'website',\n",
       "       'zip_code', 'major_airport', 'demonym', 'government_type', 'mayor',\n",
       "       'time_zone', 'summer_time_zone', 'area_code', 'government_body',\n",
       "       'history', 'geography', 'demographics', 'economy', 'transportation',\n",
       "       'education', 'sports'],\n",
       "      dtype='object')"
      ]
     },
     "execution_count": 53,
     "metadata": {},
     "output_type": "execute_result"
    }
   ],
   "source": [
    "df.columns"
   ]
  },
  {
   "cell_type": "code",
   "execution_count": 57,
   "metadata": {},
   "outputs": [],
   "source": [
    "df = df.drop([\"infobox\",\"page_info\"],axis=1)"
   ]
  },
  {
   "cell_type": "code",
   "execution_count": 58,
   "metadata": {},
   "outputs": [],
   "source": [
    "df.to_csv(\"big.csv\",index = False)"
   ]
  },
  {
   "cell_type": "code",
   "execution_count": null,
   "metadata": {},
   "outputs": [],
   "source": []
  }
 ],
 "metadata": {
  "kernelspec": {
   "display_name": "Python 3",
   "language": "python",
   "name": "python3"
  },
  "language_info": {
   "codemirror_mode": {
    "name": "ipython",
    "version": 3
   },
   "file_extension": ".py",
   "mimetype": "text/x-python",
   "name": "python",
   "nbconvert_exporter": "python",
   "pygments_lexer": "ipython3",
   "version": "3.6.5"
  }
 },
 "nbformat": 4,
 "nbformat_minor": 2
}
